{
 "cells": [
  {
   "cell_type": "markdown",
   "metadata": {},
   "source": [
    "# N ROOKS AND N QUEENS PROBLEM\n",
    "\n",
    "## Blind Search: Search where we try all possible states and see which one is the goal state.\n",
    "It is more like a brute force approach\n",
    "\n",
    "##  Heuristic Search: Finds the next state based on a cost function.\n",
    "For example distance between start point and the current location\n",
    "\n",
    "## N-Rooks Problem"
   ]
  },
  {
   "cell_type": "markdown",
   "metadata": {},
   "source": [
    "##  Solved by DFS"
   ]
  },
  {
   "cell_type": "code",
   "execution_count": 20,
   "metadata": {},
   "outputs": [],
   "source": [
    "import sys\n",
    "    \n",
    "# Count # of pieces in given row\n",
    "def count_on_row(board, row):\n",
    "    return sum( board[row] )\n",
    "\n",
    "# Count # of pieces in given column\n",
    "def count_on_col(board, col):\n",
    "    return sum( [ row[col] for row in board ] )\n",
    "\n",
    "# Count total # of pieces on board\n",
    "def count_pieces(board):\n",
    "    return sum([ sum(row) for row in board ] )\n",
    "    \n",
    "# Return a string with the board rendered in a human-friendly format\n",
    "def printable_board(board, RQ):\n",
    "    strg = \"\"\n",
    "    for row in range(len(board)):\n",
    "        for col in range(len(board[row])):\n",
    "            try:\n",
    "                if (row,col) in block:\n",
    "                        strg = strg + \"X \"     \n",
    "                elif board[row][col] == 1:\n",
    "                    #if probtype = nrook:\n",
    "                    strg = strg + RQ \n",
    "                else:\n",
    "                    strg = strg + \"_ \"\n",
    "            except:\n",
    "                if board[row][col] == 1:\n",
    "                    #if probtype = nrook:\n",
    "                    strg = strg + RQ \n",
    "                else:\n",
    "                    strg = strg + \"_ \"\n",
    "        strg = strg + \"\\n\"\n",
    "    return strg\n",
    "\n",
    "\n",
    "# Add a piece to the board at the given position, and return a new board (doesn't change original)\n",
    "def add_piece(board, row, col):\n",
    "    return board[0:row] + [board[row][0:col] + [1,] + board[row][col+1:]] + board[row+1:]\n",
    "\n",
    "# Get list of successors of given board state - DFS\n",
    "def successors(board):\n",
    "    return [ add_piece(board, r, c) for r in range(0, N) for c in range(0,N) ]\n",
    "\n",
    "# check if board is a goal state i.e there is a rook placed in such that no two are in same row or col.\n",
    "def is_goal(board):\n",
    "    #if count_pieces(board) == N and \n",
    "    return count_pieces(board) == N and \\\n",
    "            all( [ count_on_row(board, r) <= 1 for r in range(0, N) ] ) and \\\n",
    "                all( [ count_on_col(board, c) <= 1 for c in range(0, N) ] )\n",
    "        \n",
    "\n",
    "\n"
   ]
  },
  {
   "cell_type": "markdown",
   "metadata": {},
   "source": [
    "## BFS - faster than DFS"
   ]
  },
  {
   "cell_type": "code",
   "execution_count": 21,
   "metadata": {},
   "outputs": [],
   "source": [
    "# instead of looking at all possible solutions, we only add a rook if the count of the pieces < N and if the \n",
    "# given position is empty\n",
    "\n",
    "def successors2(board):\n",
    "    return [add_piece(board, r, c) for c in range(0, N) for r in range(0, N) if board[r][c] == 0 and \\\n",
    "            count_pieces(board) < N]\n",
    " "
   ]
  },
  {
   "cell_type": "code",
   "execution_count": 22,
   "metadata": {},
   "outputs": [],
   "source": [
    "def successors3(board):\n",
    "    return [add_piece(board, r, c) for c in range(0, N) for r in range(0, N) if board[r][c] == 0 and \\\n",
    "        count_pieces(board) < N and count_on_col(board, c) < 1 and count_on_row(board, r) < 1]\n",
    "    "
   ]
  },
  {
   "cell_type": "markdown",
   "metadata": {},
   "source": [
    "## N-Queens Problem\n",
    "\n",
    "### To be able to have queens in a NXN board in such a way that no two queens share same row/column or diagonal."
   ]
  },
  {
   "cell_type": "code",
   "execution_count": 23,
   "metadata": {},
   "outputs": [],
   "source": [
    "# Count number of pieces in the principal diagonal\n",
    "def diag(board):\n",
    "    return sum( board[i][i] for i in range (0, N))\n",
    "\n",
    "# Count number of pieces in the secondary diagonal\n",
    "def diag2(board):\n",
    "    return sum(board[i][N-i-1] for i in range(0, N))"
   ]
  },
  {
   "cell_type": "code",
   "execution_count": 24,
   "metadata": {},
   "outputs": [],
   "source": [
    "\n",
    "def successors_queen(board):\n",
    "    return [add_piece(board, r, c) for c in range(0, N) for r in range(0, N) if \\\n",
    "            board[r][c] == 0 and diag(board) < 1 and diag2(board) < 1 \\\n",
    "            and count_pieces(board) < N]\n",
    " "
   ]
  },
  {
   "cell_type": "code",
   "execution_count": 25,
   "metadata": {},
   "outputs": [],
   "source": [
    "# if there is a blocking position\n",
    "\n",
    "def successors_queen_block(board):\n",
    "    return [add_piece(board, r, c) for c in range(0, N) for r in range(0, N) if \\\n",
    "            board[r][c] == 0 and diag(board) < 1 and diag2(board) < 1 \\\n",
    "            and count_pieces(board) < N and (r,c) not in block]\n",
    "    \n"
   ]
  },
  {
   "cell_type": "code",
   "execution_count": 26,
   "metadata": {},
   "outputs": [],
   "source": [
    "# Solve n-rooks!\n",
    "def solve(initial_board, succ_function, prob_type):\n",
    "    fringe = [initial_board]\n",
    "    if prob_type == 'queen': \n",
    "        RQ  = 'Q ' \n",
    "    else:\n",
    "        RQ = 'R '\n",
    "    while len(fringe) > 0:\n",
    "        for s in succ_function( fringe.pop() ):\n",
    "            if is_goal(s):\n",
    "                print(printable_board(s, RQ))\n",
    "                return(s)\n",
    "            fringe.append(s)\n",
    "            \n",
    "    return False\n"
   ]
  },
  {
   "cell_type": "code",
   "execution_count": 27,
   "metadata": {},
   "outputs": [],
   "source": [
    "N = 4\n",
    "initial_board = [[0]*N]*N"
   ]
  },
  {
   "cell_type": "code",
   "execution_count": 28,
   "metadata": {},
   "outputs": [
    {
     "name": "stdout",
     "output_type": "stream",
     "text": [
      "R _ _ _ \n",
      "_ R _ _ \n",
      "_ _ R _ \n",
      "_ _ _ R \n",
      "\n"
     ]
    },
    {
     "data": {
      "text/plain": [
       "[[1, 0, 0, 0], [0, 1, 0, 0], [0, 0, 1, 0], [0, 0, 0, 1]]"
      ]
     },
     "execution_count": 28,
     "metadata": {},
     "output_type": "execute_result"
    }
   ],
   "source": [
    "solve(initial_board, successors3, 'nrook')"
   ]
  },
  {
   "cell_type": "code",
   "execution_count": 31,
   "metadata": {},
   "outputs": [
    {
     "name": "stdout",
     "output_type": "stream",
     "text": [
      "_ Q _ _ \n",
      "Q _ _ _ \n",
      "_ _ _ Q \n",
      "_ _ Q _ \n",
      "\n"
     ]
    },
    {
     "data": {
      "text/plain": [
       "[[0, 1, 0, 0], [1, 0, 0, 0], [0, 0, 0, 1], [0, 0, 1, 0]]"
      ]
     },
     "execution_count": 31,
     "metadata": {},
     "output_type": "execute_result"
    }
   ],
   "source": [
    "solve(initial_board, successors_queen, 'queen')"
   ]
  },
  {
   "cell_type": "code",
   "execution_count": 32,
   "metadata": {},
   "outputs": [
    {
     "name": "stdout",
     "output_type": "stream",
     "text": [
      "_ X R _ \n",
      "R _ X _ \n",
      "_ _ _ R \n",
      "_ R _ _ \n",
      "\n"
     ]
    },
    {
     "data": {
      "text/plain": [
       "[[0, 0, 1, 0], [1, 0, 0, 0], [0, 0, 0, 1], [0, 1, 0, 0]]"
      ]
     },
     "execution_count": 32,
     "metadata": {},
     "output_type": "execute_result"
    }
   ],
   "source": [
    "block = [(0, 1), (1,2)]\n",
    "solve(initial_board, successors_queen_block, 'nqueen')"
   ]
  }
 ],
 "metadata": {
  "kernelspec": {
   "display_name": "Python 3",
   "language": "python",
   "name": "python3"
  },
  "language_info": {
   "codemirror_mode": {
    "name": "ipython",
    "version": 3
   },
   "file_extension": ".py",
   "mimetype": "text/x-python",
   "name": "python",
   "nbconvert_exporter": "python",
   "pygments_lexer": "ipython3",
   "version": "3.7.6"
  }
 },
 "nbformat": 4,
 "nbformat_minor": 4
}
